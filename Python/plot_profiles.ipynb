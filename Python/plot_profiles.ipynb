{
 "cells": [
  {
   "cell_type": "code",
   "execution_count": null,
   "metadata": {},
   "outputs": [],
   "source": [
    "# import mesa_reader\n",
    "import mesa_reader as mr\n",
    "import matplotlib.pyplot as plt\n",
    "import numpy as np\n",
    "# load and plot data\n",
    "h = mr.MesaData('LOGS_evolved_1D8years_nomaxtimestep_burning/profile12.data')\n",
    "h1 = np.genfromtxt('entropy.dat',skip_header=1)\n",
    "    "
   ]
  },
  {
   "cell_type": "code",
   "execution_count": null,
   "metadata": {},
   "outputs": [],
   "source": [
    "plt.plot(h.logRho, h.logT)\n",
    "    plt.plot(np.log10(h3[:,1]),np.log10(h3[:,2]))\n",
    "    plt.xlabel(r\"log$\\rho$\")\n",
    "    plt.ylabel(\"logT\")\n",
    "    plt.show()\n",
    "        #plt.gca().invert_xaxis()"
   ]
  }
 ],
 "metadata": {
  "language_info": {
   "name": "python"
  },
  "orig_nbformat": 4
 },
 "nbformat": 4,
 "nbformat_minor": 2
}
