{
 "cells": [
  {
   "cell_type": "code",
   "execution_count": 2,
   "metadata": {},
   "outputs": [],
   "source": [
    "import os\n",
    "import glob\n",
    "import pandas as pd\n",
    "import ipywidgets as widgets\n",
    "import matplotlib.pyplot as plt\n",
    "import numpy as np\n",
    "from IPython.display import display\n",
    "from IPython.display import clear_output\n",
    "from ipywidgets import interact\n"
   ]
  },
  {
   "cell_type": "code",
   "execution_count": 3,
   "metadata": {},
   "outputs": [],
   "source": [
    "\n",
    "plt.rc('font', family='serif')\n",
    "plt.rcParams['text.usetex'] = False\n",
    "fs = 24\n",
    "\n",
    "# update various fontsizes to match\n",
    "params = {'figure.figsize': (12, 8),\n",
    "          'legend.fontsize': 0.6*fs,\n",
    "          'axes.labelsize': 0.8*fs,\n",
    "          'axes.titlesize': 0.8*fs,\n",
    "          'xtick.labelsize': 0.6 * fs,\n",
    "          'ytick.labelsize': 0.6 * fs,\n",
    "          'axes.linewidth': 1.1,\n",
    "          'xtick.major.size': 7,\n",
    "          'xtick.minor.size': 4,\n",
    "          'ytick.major.size': 7,\n",
    "          'ytick.minor.size': 4}\n",
    "plt.rcParams.update(params)\n"
   ]
  },
  {
   "cell_type": "code",
   "execution_count": 4,
   "metadata": {},
   "outputs": [],
   "source": [
    "# Define the directory path where the files are located\n",
    "directory_path = '/userdata/data/bhat/D6/D6_MESA/White_Dwarf_Models/Test/make_co_wd_models/make_co_wd_till1Lsun/make_co_wd_default/'\n",
    "directory_path2 = '/userdata/data/bhat/D6/D6_MESA/White_Dwarf_Models/Test/make_co_wd_models/make_co_wd_till1Lsun/make_co_wd_4,5M/'\n",
    "directory_path3 = '/userdata/data/bhat/D6/D6_MESA/White_Dwarf_Models/Test/make_co_wd_models/make_co_wd_till1Lsun/make_co_wd_6M/'\n",
    "# Define the directory path where the files are located\n",
    "directory_path4 = '/userdata/data/bhat/D6/D6_MESA/White_Dwarf_Models/Test/make_co_wd_models/make_co_wd_10^7k/make_co_wd_default/'\n",
    "directory_path5 = '/userdata/data/bhat/D6/D6_MESA/White_Dwarf_Models/Test/make_co_wd_models/make_co_wd_10^7k/make_co_wd_4,5M/'\n",
    "directory_path6 = '/userdata/data/bhat/D6/D6_MESA/White_Dwarf_Models/Test/make_co_wd_models/make_co_wd_10^7k/make_co_wd_6M/'\n",
    "\n"
   ]
  },
  {
   "cell_type": "markdown",
   "metadata": {},
   "source": [
    "# History\n"
   ]
  },
  {
   "cell_type": "code",
   "execution_count": 5,
   "metadata": {},
   "outputs": [
    {
     "ename": "NameError",
     "evalue": "name 'MesaData' is not defined",
     "output_type": "error",
     "traceback": [
      "\u001b[0;31m---------------------------------------------------------------------------\u001b[0m",
      "\u001b[0;31mNameError\u001b[0m                                 Traceback (most recent call last)",
      "\u001b[0;32m<ipython-input-5-e8ca0c12ba05>\u001b[0m in \u001b[0;36m<module>\u001b[0;34m\u001b[0m\n\u001b[0;32m----> 1\u001b[0;31m \u001b[0mh\u001b[0m \u001b[0;34m=\u001b[0m \u001b[0mMesaData\u001b[0m\u001b[0;34m(\u001b[0m\u001b[0mos\u001b[0m\u001b[0;34m.\u001b[0m\u001b[0mpath\u001b[0m\u001b[0;34m.\u001b[0m\u001b[0mjoin\u001b[0m\u001b[0;34m(\u001b[0m\u001b[0mdirectory_path\u001b[0m\u001b[0;34m,\u001b[0m \u001b[0;34m'final.mod'\u001b[0m\u001b[0;34m)\u001b[0m\u001b[0;34m)\u001b[0m\u001b[0;34m\u001b[0m\u001b[0;34m\u001b[0m\u001b[0m\n\u001b[0m\u001b[1;32m      2\u001b[0m \u001b[0mh2\u001b[0m \u001b[0;34m=\u001b[0m \u001b[0mMesaData\u001b[0m\u001b[0;34m(\u001b[0m\u001b[0mos\u001b[0m\u001b[0;34m.\u001b[0m\u001b[0mpath\u001b[0m\u001b[0;34m.\u001b[0m\u001b[0mjoin\u001b[0m\u001b[0;34m(\u001b[0m\u001b[0mdirectory_path2\u001b[0m\u001b[0;34m,\u001b[0m \u001b[0;34m'final.mod'\u001b[0m\u001b[0;34m)\u001b[0m\u001b[0;34m)\u001b[0m\u001b[0;34m\u001b[0m\u001b[0;34m\u001b[0m\u001b[0m\n\u001b[1;32m      3\u001b[0m \u001b[0mh3\u001b[0m \u001b[0;34m=\u001b[0m \u001b[0mMesaData\u001b[0m\u001b[0;34m(\u001b[0m\u001b[0mos\u001b[0m\u001b[0;34m.\u001b[0m\u001b[0mpath\u001b[0m\u001b[0;34m.\u001b[0m\u001b[0mjoin\u001b[0m\u001b[0;34m(\u001b[0m\u001b[0mdirectory_path3\u001b[0m\u001b[0;34m,\u001b[0m \u001b[0;34m'final.mod'\u001b[0m\u001b[0;34m)\u001b[0m\u001b[0;34m)\u001b[0m\u001b[0;34m\u001b[0m\u001b[0;34m\u001b[0m\u001b[0m\n\u001b[1;32m      4\u001b[0m \u001b[0mh4\u001b[0m\u001b[0;34m=\u001b[0m \u001b[0mMesaData\u001b[0m\u001b[0;34m(\u001b[0m\u001b[0mos\u001b[0m\u001b[0;34m.\u001b[0m\u001b[0mpath\u001b[0m\u001b[0;34m.\u001b[0m\u001b[0mjoin\u001b[0m\u001b[0;34m(\u001b[0m\u001b[0mdirectory_path4\u001b[0m\u001b[0;34m,\u001b[0m \u001b[0;34m'final.mod'\u001b[0m\u001b[0;34m)\u001b[0m\u001b[0;34m)\u001b[0m\u001b[0;34m\u001b[0m\u001b[0;34m\u001b[0m\u001b[0m\n\u001b[1;32m      5\u001b[0m \u001b[0mh5\u001b[0m \u001b[0;34m=\u001b[0m \u001b[0mMesaData\u001b[0m\u001b[0;34m(\u001b[0m\u001b[0mos\u001b[0m\u001b[0;34m.\u001b[0m\u001b[0mpath\u001b[0m\u001b[0;34m.\u001b[0m\u001b[0mjoin\u001b[0m\u001b[0;34m(\u001b[0m\u001b[0mdirectory_path5\u001b[0m\u001b[0;34m,\u001b[0m \u001b[0;34m'final.mod'\u001b[0m\u001b[0;34m)\u001b[0m\u001b[0;34m)\u001b[0m\u001b[0;34m\u001b[0m\u001b[0;34m\u001b[0m\u001b[0m\n",
      "\u001b[0;31mNameError\u001b[0m: name 'MesaData' is not defined"
     ]
    }
   ],
   "source": [
    "h = MesaData(os.path.join(directory_path, 'final.mod'))\n",
    "h2 = MesaData(os.path.join(directory_path2, 'final.mod'))\n",
    "h3 = MesaData(os.path.join(directory_path3, 'final.mod'))\n",
    "h4= MesaData(os.path.join(directory_path4, 'final.mod'))\n",
    "h5 = MesaData(os.path.join(directory_path5, 'final.mod'))\n",
    "h6 = MesaData(os.path.join(directory_path6, 'final.mod'))\n",
    "plt.rcParams[\"font.size\"]=18\n",
    "plt.rcParams[\"legend.fontsize\"]=15\n",
    "plt.rcParams['lines.linestyle']=\"--\"\n",
    "plt.rcParams['lines.linewidth']=3\n",
    "\n",
    "fig=plt.figure(figsize=(8,6))\n",
    "plt.plot(np.log10(np.exp(h.lnT)), np.log10(np.exp(h.lnd)))\n",
    "plt.plot(np.log10(np.exp(h2.lnT)), np.log10(np.exp(h2.lnd)))\n",
    "plt.plot(np.log10(np.exp(h3.lnT)), np.log10(np.exp(h3.lnd)))\n",
    "plt.plot(np.log10(np.exp(h4.lnT)), np.log10(np.exp(h4.lnd)))\n",
    "plt.plot(np.log10(np.exp(h5.lnT)), np.log10(np.exp(h5.lnd)))\n",
    "plt.plot(np.log10(np.exp(h6.lnT)), np.log10(np.exp(h6.lnd)))\n",
    "plt.xlabel(\"log(T)[K]\",fontsize=18)\n",
    "plt.ylabel(\"log(density)[gcm$^{-3}$]\",fontsize=18)\n",
    "\n",
    "plt.legend(('Default settled WD','0.85 Msun settled WD',\n",
    "            '0.946 Msun settled WD','Default settled WD 0.01 Lsun','0.85 Msun settled WD 0.01 Lsun','0.946 Msun settled WD 0.01 Lsun'),\n",
    "           loc='best')\n",
    "\n",
    "plt.tight_layout()\n",
    "\n",
    "#plt.savefig(\"/userdata/data/bhat/D6/KavliSP23/Report/Plots/HR_iron_comparison.pdf\")\n",
    "#plt.savefig(\"/userdata/data/bhat/D6/KavliSP23/Report/Plots/HR_iron_comparison.png\")\n"
   ]
  },
  {
   "cell_type": "markdown",
   "metadata": {},
   "source": [
    "# Composition"
   ]
  },
  {
   "cell_type": "code",
   "execution_count": null,
   "metadata": {},
   "outputs": [],
   "source": [
    "h2 = np.genfromtxt('/userdata/data/bhat/D6/KavliSP23/Test1/Long_Evolve/composition.dat',skip_header=1)\n",
    "h = MesaData(os.path.join(directory_path, 'profile11.data'))\n",
    "plt.plot(h.xq, np.log10(h.he4))\n",
    "plt.plot(h.xq, np.log10(h.c12))\n",
    "plt.plot(h.xq, np.log10(h.n14))\n",
    "plt.plot(h.xq, np.log10(h.o16))\n",
    "plt.plot(h.xq, np.log10(h.fe56))\n",
    "plt.ylim(-15,0)\n",
    "plt.plot(h2[:,0],np.log10(h2[:,3]))\n",
    "plt.plot(h2[:,0],np.log10(h2[:,4]))\n",
    "plt.plot(h2[:,0],np.log10(h2[:,5]))\n",
    "plt.plot(h2[:,0],np.log10(h2[:,6]))\n",
    "plt.plot(h2[:,0],np.log10(h2[:,12]))\n",
    "\n",
    "# set axis labels\n",
    "plt.legend((\"he4\",\"c12\",\"n14\",\"o16\",\"fe56\",\"he4R\",\"c12r\",\"n14r\",\"o16r\",\"fe56r\"))\n",
    "\n",
    "plt.xlabel(r'$X_q$')\n",
    "plt.ylabel(r'$X_n$')"
   ]
  }
 ],
 "metadata": {
  "kernelspec": {
   "display_name": "Python 3",
   "language": "python",
   "name": "python3"
  },
  "language_info": {
   "codemirror_mode": {
    "name": "ipython",
    "version": 3
   },
   "file_extension": ".py",
   "mimetype": "text/x-python",
   "name": "python",
   "nbconvert_exporter": "python",
   "pygments_lexer": "ipython3",
   "version": "3.6.15"
  },
  "orig_nbformat": 4
 },
 "nbformat": 4,
 "nbformat_minor": 2
}
